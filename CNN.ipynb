{
 "cells": [
  {
   "cell_type": "code",
   "execution_count": 5,
   "id": "2a34c414",
   "metadata": {},
   "outputs": [],
   "source": [
    "from keras.datasets import fashion_mnist\n",
    "(train_X,train_Y),(test_X,test_Y)=fashion_mnist.load_data()"
   ]
  },
  {
   "cell_type": "code",
   "execution_count": 6,
   "id": "aa3e7a4d",
   "metadata": {},
   "outputs": [
    {
     "name": "stdout",
     "output_type": "stream",
     "text": [
      "Training Set: (60000, 28, 28) (60000,)\n",
      "Testing Set: (10000, 28, 28) (10000,)\n"
     ]
    }
   ],
   "source": [
    "print('Training Set:',train_X.shape,train_Y.shape)\n",
    "print('Testing Set:',test_X.shape,test_Y.shape)"
   ]
  },
  {
   "cell_type": "code",
   "execution_count": 20,
   "id": "3e0c9e6e",
   "metadata": {},
   "outputs": [
    {
     "ename": "ImportError",
     "evalue": "cannot import name 'to_categorical' from 'keras' (C:\\Users\\DHARSINI\\anaconda3\\lib\\site-packages\\keras\\__init__.py)",
     "output_type": "error",
     "traceback": [
      "\u001b[1;31m---------------------------------------------------------------------------\u001b[0m",
      "\u001b[1;31mImportError\u001b[0m                               Traceback (most recent call last)",
      "\u001b[1;32m<ipython-input-20-50dc9e089930>\u001b[0m in \u001b[0;36m<module>\u001b[1;34m\u001b[0m\n\u001b[0;32m      1\u001b[0m \u001b[1;32mimport\u001b[0m \u001b[0mnumpy\u001b[0m \u001b[1;32mas\u001b[0m \u001b[0mnp\u001b[0m\u001b[1;33m\u001b[0m\u001b[1;33m\u001b[0m\u001b[0m\n\u001b[0;32m      2\u001b[0m \u001b[1;32mimport\u001b[0m \u001b[0mmatplotlib\u001b[0m\u001b[1;33m.\u001b[0m\u001b[0mpyplot\u001b[0m \u001b[1;32mas\u001b[0m \u001b[0mplt\u001b[0m\u001b[1;33m\u001b[0m\u001b[1;33m\u001b[0m\u001b[0m\n\u001b[1;32m----> 3\u001b[1;33m \u001b[1;32mfrom\u001b[0m \u001b[0mkeras\u001b[0m \u001b[1;32mimport\u001b[0m \u001b[0mto_categorical\u001b[0m\u001b[1;33m\u001b[0m\u001b[1;33m\u001b[0m\u001b[0m\n\u001b[0m",
      "\u001b[1;31mImportError\u001b[0m: cannot import name 'to_categorical' from 'keras' (C:\\Users\\DHARSINI\\anaconda3\\lib\\site-packages\\keras\\__init__.py)"
     ]
    }
   ],
   "source": [
    "import numpy as np\n",
    "import matplotlib.pyplot as plt"
   ]
  },
  {
   "cell_type": "code",
   "execution_count": 9,
   "id": "d8165708",
   "metadata": {},
   "outputs": [
    {
     "name": "stdout",
     "output_type": "stream",
     "text": [
      "Output Classes: [0 1 2 3 4 5 6 7 8 9]\n"
     ]
    }
   ],
   "source": [
    "classes=np.unique(train_Y)\n",
    "nclasses=len(classes)\n",
    "print('Output Classes:',classes)"
   ]
  },
  {
   "cell_type": "code",
   "execution_count": 14,
   "id": "94ca2ec1",
   "metadata": {},
   "outputs": [
    {
     "data": {
      "text/plain": [
       "<matplotlib.image.AxesImage at 0x25c8ed8d610>"
      ]
     },
     "execution_count": 14,
     "metadata": {},
     "output_type": "execute_result"
    },
    {
     "data": {
      "image/png": "[encoded data removed]",
      "text/plain": [
       "<Figure size 360x360 with 2 Axes>"
      ]
     },
     "metadata": {
      "needs_background": "light"
     },
     "output_type": "display_data"
    }
   ],
   "source": [
    "plt.figure(figsize=[5,5])\n",
    "plt.subplot(121)\n",
    "plt.imshow(train_X[1])\n",
    "plt.subplot(122)\n",
    "plt.imshow(test_X[1])"
   ]
  },
  {
   "cell_type": "code",
   "execution_count": 16,
   "id": "72381f52",
   "metadata": {},
   "outputs": [],
   "source": [
    "train_X=train_X.reshape(-1,28,28,1)\n",
    "test_X=test_X.reshape(-1,28,28,1)\n",
    "train_X=train_X.astype('float32')\n",
    "test_X=test_X.astype('float32')\n",
    "train_X=train_X/255\n",
    "test_X=test_X/255"
   ]
  },
  {
   "cell_type": "code",
   "execution_count": 39,
   "id": "fc4c3148",
   "metadata": {},
   "outputs": [],
   "source": [
    "import tensorflow\n",
    "from tensorflow.keras.utils import to_categorical\n",
    "train_Y_one_hot=to_categorical(train_Y)\n",
    "test_Y_one_hot=to_categorical(test_Y)"
   ]
  },
  {
   "cell_type": "code",
   "execution_count": 22,
   "id": "6c894a7c",
   "metadata": {},
   "outputs": [],
   "source": [
    "from sklearn.model_selection import train_test_split\n",
    "train_X,valid_X,train_label,valid_label = train_test_split(train_X, train_Y_one_hot, test_size=0.2, random_state=13)"
   ]
  },
  {
   "cell_type": "code",
   "execution_count": 36,
   "id": "c1fb04dd",
   "metadata": {},
   "outputs": [],
   "source": [
    "import keras\n",
    "from keras.layers import LeakyReLU\n",
    "from keras.models import Sequential\n",
    "from keras.layers import Conv2D,MaxPooling2D,Flatten,Dense\n",
    "batch_size = 64\n",
    "epochs = 20\n",
    "num_classes = 10"
   ]
  },
  {
   "cell_type": "code",
   "execution_count": 37,
   "id": "a54ff72e",
   "metadata": {},
   "outputs": [],
   "source": [
    "fashion_model=Sequential()\n",
    "fashion_model.add(Conv2D(32, kernel_size=(3, 3),activation='linear',input_shape=(28,28,1),padding='same'))\n",
    "fashion_model.add(LeakyReLU(alpha=0.1))\n",
    "fashion_model.add(MaxPooling2D((2, 2),padding='same'))\n",
    "fashion_model.add(Conv2D(64, (3, 3), activation='linear',padding='same'))\n",
    "fashion_model.add(LeakyReLU(alpha=0.1))\n",
    "fashion_model.add(MaxPooling2D(pool_size=(2, 2),padding='same'))\n",
    "fashion_model.add(Conv2D(128, (3, 3), activation='linear',padding='same'))\n",
    "fashion_model.add(LeakyReLU(alpha=0.1))                  \n",
    "fashion_model.add(MaxPooling2D(pool_size=(2, 2),padding='same'))\n",
    "fashion_model.add(Flatten())\n",
    "fashion_model.add(Dense(128, activation='linear'))\n",
    "fashion_model.add(LeakyReLU(alpha=0.1))                  \n",
    "fashion_model.add(Dense(num_classes, activation='softmax'))"
   ]
  },
  {
   "cell_type": "code",
   "execution_count": 41,
   "id": "8e6408ab",
   "metadata": {},
   "outputs": [],
   "source": [
    "fashion_model.compile(loss=keras.losses.categorical_crossentropy, optimizer=tensorflow.keras.optimizers.Adam(),metrics=['accuracy'])"
   ]
  },
  {
   "cell_type": "code",
   "execution_count": 42,
   "id": "30ce046c",
   "metadata": {},
   "outputs": [
    {
     "name": "stdout",
     "output_type": "stream",
     "text": [
      "Model: \"sequential_5\"\n",
      "_________________________________________________________________\n",
      "Layer (type)                 Output Shape              Param #   \n",
      "=================================================================\n",
      "conv2d_9 (Conv2D)            (None, 28, 28, 32)        320       \n",
      "_________________________________________________________________\n",
      "leaky_re_lu_10 (LeakyReLU)   (None, 28, 28, 32)        0         \n",
      "_________________________________________________________________\n",
      "max_pooling2d_9 (MaxPooling2 (None, 14, 14, 32)        0         \n",
      "_________________________________________________________________\n",
      "conv2d_10 (Conv2D)           (None, 14, 14, 64)        18496     \n",
      "_________________________________________________________________\n",
      "leaky_re_lu_11 (LeakyReLU)   (None, 14, 14, 64)        0         \n",
      "_________________________________________________________________\n",
      "max_pooling2d_10 (MaxPooling (None, 7, 7, 64)          0         \n",
      "_________________________________________________________________\n",
      "conv2d_11 (Conv2D)           (None, 7, 7, 128)         73856     \n",
      "_________________________________________________________________\n",
      "leaky_re_lu_12 (LeakyReLU)   (None, 7, 7, 128)         0         \n",
      "_________________________________________________________________\n",
      "max_pooling2d_11 (MaxPooling (None, 4, 4, 128)         0         \n",
      "_________________________________________________________________\n",
      "flatten_2 (Flatten)          (None, 2048)              0         \n",
      "_________________________________________________________________\n",
      "dense_1 (Dense)              (None, 128)               262272    \n",
      "_________________________________________________________________\n",
      "leaky_re_lu_13 (LeakyReLU)   (None, 128)               0         \n",
      "_________________________________________________________________\n",
      "dense_2 (Dense)              (None, 10)                1290      \n",
      "=================================================================\n",
      "Total params: 356,234\n",
      "Trainable params: 356,234\n",
      "Non-trainable params: 0\n",
      "_________________________________________________________________\n"
     ]
    }
   ],
   "source": [
    "fashion_model.summary()"
   ]
  },
  {
   "cell_type": "code",
   "execution_count": 43,
   "id": "d23cda79",
   "metadata": {},
   "outputs": [
    {
     "name": "stdout",
     "output_type": "stream",
     "text": [
      "Epoch 1/20\n",
      "750/750 [==============================] - 65s 85ms/step - loss: 0.4566 - accuracy: 0.8334 - val_loss: 0.3470 - val_accuracy: 0.8735\n",
      "Epoch 2/20\n",
      "750/750 [==============================] - 59s 79ms/step - loss: 0.2826 - accuracy: 0.8961 - val_loss: 0.2761 - val_accuracy: 0.9001\n",
      "Epoch 3/20\n",
      "750/750 [==============================] - 62s 83ms/step - loss: 0.2361 - accuracy: 0.9131 - val_loss: 0.2542 - val_accuracy: 0.9082\n",
      "Epoch 4/20\n",
      "750/750 [==============================] - 67s 89ms/step - loss: 0.2046 - accuracy: 0.9239 - val_loss: 0.2299 - val_accuracy: 0.9182\n",
      "Epoch 5/20\n",
      "750/750 [==============================] - 57s 75ms/step - loss: 0.1763 - accuracy: 0.9348 - val_loss: 0.2252 - val_accuracy: 0.9187\n",
      "Epoch 6/20\n",
      "750/750 [==============================] - 63s 85ms/step - loss: 0.1557 - accuracy: 0.9407 - val_loss: 0.2534 - val_accuracy: 0.9145\n",
      "Epoch 7/20\n",
      "750/750 [==============================] - 59s 78ms/step - loss: 0.1332 - accuracy: 0.9495 - val_loss: 0.2597 - val_accuracy: 0.9151\n",
      "Epoch 8/20\n",
      "750/750 [==============================] - 60s 80ms/step - loss: 0.1156 - accuracy: 0.9571 - val_loss: 0.2428 - val_accuracy: 0.9199\n",
      "Epoch 9/20\n",
      "750/750 [==============================] - 66s 88ms/step - loss: 0.0971 - accuracy: 0.9636 - val_loss: 0.2540 - val_accuracy: 0.9190\n",
      "Epoch 10/20\n",
      "750/750 [==============================] - 59s 78ms/step - loss: 0.0830 - accuracy: 0.9694 - val_loss: 0.2763 - val_accuracy: 0.9220\n",
      "Epoch 11/20\n",
      "750/750 [==============================] - 56s 75ms/step - loss: 0.0703 - accuracy: 0.9741 - val_loss: 0.3016 - val_accuracy: 0.9166\n",
      "Epoch 12/20\n",
      "750/750 [==============================] - 58s 77ms/step - loss: 0.0625 - accuracy: 0.9761 - val_loss: 0.3370 - val_accuracy: 0.9197\n",
      "Epoch 13/20\n",
      "750/750 [==============================] - 60s 81ms/step - loss: 0.0530 - accuracy: 0.9804 - val_loss: 0.3340 - val_accuracy: 0.9214\n",
      "Epoch 14/20\n",
      "750/750 [==============================] - 62s 82ms/step - loss: 0.0510 - accuracy: 0.9805 - val_loss: 0.3137 - val_accuracy: 0.9212\n",
      "Epoch 15/20\n",
      "750/750 [==============================] - 66s 88ms/step - loss: 0.0420 - accuracy: 0.9845 - val_loss: 0.4250 - val_accuracy: 0.9160\n",
      "Epoch 16/20\n",
      "750/750 [==============================] - 61s 82ms/step - loss: 0.0406 - accuracy: 0.9851 - val_loss: 0.3715 - val_accuracy: 0.9208\n",
      "Epoch 17/20\n",
      "750/750 [==============================] - 69s 92ms/step - loss: 0.0335 - accuracy: 0.9878 - val_loss: 0.4019 - val_accuracy: 0.9208\n",
      "Epoch 18/20\n",
      "750/750 [==============================] - 58s 78ms/step - loss: 0.0361 - accuracy: 0.9863 - val_loss: 0.4515 - val_accuracy: 0.9185\n",
      "Epoch 19/20\n",
      "750/750 [==============================] - 59s 78ms/step - loss: 0.0299 - accuracy: 0.9888 - val_loss: 0.4550 - val_accuracy: 0.9172\n",
      "Epoch 20/20\n",
      "750/750 [==============================] - 59s 78ms/step - loss: 0.0288 - accuracy: 0.9894 - val_loss: 0.4393 - val_accuracy: 0.9202\n"
     ]
    }
   ],
   "source": [
    "fashion_train = fashion_model.fit(train_X, train_label, batch_size=batch_size,epochs=epochs,verbose=1,validation_data=(valid_X, valid_label))"
   ]
  },
  {
   "cell_type": "code",
   "execution_count": 45,
   "id": "660a6773",
   "metadata": {},
   "outputs": [
    {
     "name": "stdout",
     "output_type": "stream",
     "text": [
      "313/313 [==============================] - 4s 13ms/step - loss: 0.4679 - accuracy: 0.9161\n",
      "[0.46791088581085205, 0.916100025177002]\n"
     ]
    }
   ],
   "source": [
    "test_eval = fashion_model.evaluate(test_X, test_Y_one_hot, verbose=1)\n",
    "print(test_eval)"
   ]
  },
  {
   "cell_type": "code",
   "execution_count": null,
   "id": "92efce8e",
   "metadata": {},
   "outputs": [],
   "source": []
  }
 ],
 "metadata": {
  "kernelspec": {
   "display_name": "Python 3",
   "language": "python",
   "name": "python3"
  },
  "language_info": {
   "codemirror_mode": {
    "name": "ipython",
    "version": 3
   },
   "file_extension": ".py",
   "mimetype": "text/x-python",
   "name": "python",
   "nbconvert_exporter": "python",
   "pygments_lexer": "ipython3",
   "version": "3.8.8"
  }
 },
 "nbformat": 4,
 "nbformat_minor": 5
}
